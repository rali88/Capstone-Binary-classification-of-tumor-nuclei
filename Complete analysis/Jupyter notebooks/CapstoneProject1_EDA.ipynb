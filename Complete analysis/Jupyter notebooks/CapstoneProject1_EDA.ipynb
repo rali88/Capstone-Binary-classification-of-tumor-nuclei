{
 "cells": [
  {
   "cell_type": "code",
   "execution_count": null,
   "metadata": {
    "collapsed": true
   },
   "outputs": [],
   "source": [
    "# importing required libraries \n",
    "import pandas as pd\n",
    "import matplotlib.pyplot as plt\n",
    "import numpy as np\n",
    "import seaborn as sns\n",
    "from collections import defaultdict\n",
    "import scipy.stats as st"
   ]
  },
  {
   "cell_type": "code",
   "execution_count": null,
   "metadata": {},
   "outputs": [],
   "source": [
    "# reading data into a dataframe df\n",
    "df = pd.read_csv('Cancer.csv', index_col = 'id')"
   ]
  },
  {
   "cell_type": "code",
   "execution_count": null,
   "metadata": {
    "scrolled": true
   },
   "outputs": [],
   "source": [
    "# exploring the first 5 rows of df\n",
    "df.head()"
   ]
  },
  {
   "cell_type": "code",
   "execution_count": null,
   "metadata": {},
   "outputs": [],
   "source": [
    "# checking for types and null values\n",
    "df.info()"
   ]
  },
  {
   "cell_type": "code",
   "execution_count": null,
   "metadata": {
    "collapsed": true
   },
   "outputs": [],
   "source": [
    "# meta data containg informaton about the data suggests that only the first 10 Columns contain values, the rest are\n",
    "# statistics on those values, therefore crating a new dataframe df with only the first 10 columns.\n",
    "df = df.iloc[:,0:10]"
   ]
  },
  {
   "cell_type": "code",
   "execution_count": null,
   "metadata": {
    "collapsed": true
   },
   "outputs": [],
   "source": [
    "# making sure that no patient data is duplicated\n",
    "assert df.index.value_counts().max() == 1"
   ]
  },
  {
   "cell_type": "code",
   "execution_count": null,
   "metadata": {
    "collapsed": true
   },
   "outputs": [],
   "source": [
    "# converting dignosis to dtype category\n",
    "df.diagnosis = df.diagnosis.astype('category')"
   ]
  },
  {
   "cell_type": "code",
   "execution_count": null,
   "metadata": {
    "collapsed": true
   },
   "outputs": [],
   "source": [
    "# melting the data frame to create Parameters and values for each categorical variable\n",
    "df_melt = pd.melt(df,id_vars='diagnosis', \n",
    "                  var_name = 'Parameters', \n",
    "                  value_name = 'Values')"
   ]
  },
  {
   "cell_type": "code",
   "execution_count": null,
   "metadata": {},
   "outputs": [],
   "source": [
    "# exploring the head of melted dataframe\n",
    "df_melt.head()"
   ]
  },
  {
   "cell_type": "code",
   "execution_count": null,
   "metadata": {
    "collapsed": true
   },
   "outputs": [],
   "source": [
    "# setting font size and style\n",
    "sns.set(style = 'darkgrid',font_scale = 2)"
   ]
  },
  {
   "cell_type": "code",
   "execution_count": null,
   "metadata": {
    "collapsed": true
   },
   "outputs": [],
   "source": [
    "# making figure\n",
    "fig1 = plt.figure(figsize = (15,15));"
   ]
  },
  {
   "cell_type": "code",
   "execution_count": null,
   "metadata": {
    "collapsed": true
   },
   "outputs": [],
   "source": [
    "# making boxplot for the melted dataframe\n",
    "sns.boxplot(x='Values',\n",
    "            y='Parameters',\n",
    "            hue='diagnosis',\n",
    "            data=df_melt,\n",
    "            orient='horizontal',\n",
    "            dodge = True);"
   ]
  },
  {
   "cell_type": "code",
   "execution_count": null,
   "metadata": {
    "collapsed": true
   },
   "outputs": [],
   "source": [
    "# making stripplot for melted dataframe\n",
    "sns.stripplot(x='Values',\n",
    "              y='Parameters',\n",
    "              hue = 'diagnosis',\n",
    "              data=df_melt,size=3,\n",
    "              dodge = True,\n",
    "              jitter = True);"
   ]
  },
  {
   "cell_type": "code",
   "execution_count": null,
   "metadata": {
    "collapsed": true
   },
   "outputs": [],
   "source": [
    "# removing xlabels\n",
    "plt.xlabel('');"
   ]
  },
  {
   "cell_type": "code",
   "execution_count": null,
   "metadata": {
    "collapsed": true
   },
   "outputs": [],
   "source": [
    "# removing ylabels\n",
    "plt.ylabel('');"
   ]
  },
  {
   "cell_type": "code",
   "execution_count": null,
   "metadata": {
    "collapsed": true
   },
   "outputs": [],
   "source": [
    "plt.tight_layout()"
   ]
  },
  {
   "cell_type": "code",
   "execution_count": null,
   "metadata": {},
   "outputs": [],
   "source": [
    "plt.show(fig1);"
   ]
  },
  {
   "cell_type": "code",
   "execution_count": null,
   "metadata": {
    "collapsed": true
   },
   "outputs": [],
   "source": [
    "# removing area_mean from melted dataframe\n",
    "df_melt_no_area = df_melt[df_melt.Parameters != 'area_mean']"
   ]
  },
  {
   "cell_type": "code",
   "execution_count": null,
   "metadata": {
    "collapsed": true
   },
   "outputs": [],
   "source": [
    "# making figure for plotting\n",
    "fig2 = plt.figure(figsize = (15,15));"
   ]
  },
  {
   "cell_type": "code",
   "execution_count": null,
   "metadata": {
    "collapsed": true
   },
   "outputs": [],
   "source": [
    "# creating boxplot for df_melt_no_area\n",
    "sns.boxplot(x='Values',\n",
    "            y='Parameters',\n",
    "            hue='diagnosis',\n",
    "            data=df_melt_no_area,\n",
    "            orient='horizontal',\n",
    "            dodge = True);"
   ]
  },
  {
   "cell_type": "code",
   "execution_count": null,
   "metadata": {
    "collapsed": true
   },
   "outputs": [],
   "source": [
    "# creating stripplot for df_melt_no_area\n",
    "sns.stripplot(x='Values',\n",
    "              y='Parameters',\n",
    "              hue = 'diagnosis',\n",
    "              data=df_melt_no_area,size=3,\n",
    "              dodge = True,\n",
    "              jitter = True);"
   ]
  },
  {
   "cell_type": "code",
   "execution_count": null,
   "metadata": {
    "collapsed": true
   },
   "outputs": [],
   "source": [
    "# removing xlabel\n",
    "plt.xlabel('');"
   ]
  },
  {
   "cell_type": "code",
   "execution_count": null,
   "metadata": {
    "collapsed": true
   },
   "outputs": [],
   "source": [
    "# removing ylabel\n",
    "plt.ylabel('');"
   ]
  },
  {
   "cell_type": "code",
   "execution_count": null,
   "metadata": {
    "collapsed": true
   },
   "outputs": [],
   "source": [
    "plt.tight_layout()"
   ]
  },
  {
   "cell_type": "code",
   "execution_count": null,
   "metadata": {},
   "outputs": [],
   "source": [
    "plt.show(fig2);"
   ]
  },
  {
   "cell_type": "code",
   "execution_count": null,
   "metadata": {
    "collapsed": true
   },
   "outputs": [],
   "source": [
    "# making new dataframe for radius, texture and parimeter\n",
    "df_melt_radius_texture_perimeter = df_melt[(df_melt.Parameters == 'radius_mean') | \n",
    "                                           (df_melt.Parameters == 'texture_mean') |\n",
    "                                          (df_melt.Parameters == 'perimeter_mean')]"
   ]
  },
  {
   "cell_type": "code",
   "execution_count": null,
   "metadata": {
    "collapsed": true
   },
   "outputs": [],
   "source": [
    "# making new dataframe for area\n",
    "df_melt_area = df_melt[df_melt.Parameters == 'area_mean']"
   ]
  },
  {
   "cell_type": "code",
   "execution_count": null,
   "metadata": {
    "collapsed": true
   },
   "outputs": [],
   "source": [
    "# making new dataframe for rest of the parameters\n",
    "df_melt_rest = df_melt[(df_melt.Parameters != 'radius_mean') & \n",
    "                       (df_melt.Parameters != 'texture_mean') &\n",
    "                       (df_melt.Parameters != 'perimeter_mean') &\n",
    "                      (df_melt.Parameters != 'area_mean')]"
   ]
  },
  {
   "cell_type": "code",
   "execution_count": null,
   "metadata": {
    "collapsed": true
   },
   "outputs": [],
   "source": [
    "# creating figure and axes for plotting\n",
    "fig3, (ax1, ax2, ax3) = plt.subplots(3,1,figsize = (15,45));"
   ]
  },
  {
   "cell_type": "code",
   "execution_count": null,
   "metadata": {
    "collapsed": true,
    "scrolled": true
   },
   "outputs": [],
   "source": [
    "# creating boxplot for df_melt_area\n",
    "sns.boxplot(y='Values',\n",
    "            x='Parameters',\n",
    "            hue='diagnosis',\n",
    "            data=df_melt_area,\n",
    "            dodge = True,ax=ax1);"
   ]
  },
  {
   "cell_type": "code",
   "execution_count": null,
   "metadata": {
    "collapsed": true
   },
   "outputs": [],
   "source": [
    "# creating stripplot for df_melt_area\n",
    "sns.stripplot(y='Values',\n",
    "              x='Parameters',\n",
    "              hue = 'diagnosis',\n",
    "              data=df_melt_area,size=3,\n",
    "              dodge = True,\n",
    "              jitter = True,\n",
    "              ax = ax1);"
   ]
  },
  {
   "cell_type": "code",
   "execution_count": null,
   "metadata": {
    "collapsed": true
   },
   "outputs": [],
   "source": [
    "# creating boxplot for df_melt_radius_texture_perimeter\n",
    "sns.boxplot(y='Values',\n",
    "            x='Parameters',\n",
    "            hue='diagnosis',\n",
    "            data=df_melt_radius_texture_perimeter,\n",
    "            dodge = True,\n",
    "            ax=ax2);"
   ]
  },
  {
   "cell_type": "code",
   "execution_count": null,
   "metadata": {
    "collapsed": true
   },
   "outputs": [],
   "source": [
    "# creating stripplot for df_melt_radius_texture_perimeter\n",
    "sns.stripplot(y='Values',\n",
    "              x='Parameters',\n",
    "              hue = 'diagnosis',\n",
    "              data=df_melt_radius_texture_perimeter,size=3,\n",
    "              dodge = True,\n",
    "              jitter = True,\n",
    "              ax = ax2);"
   ]
  },
  {
   "cell_type": "code",
   "execution_count": null,
   "metadata": {
    "collapsed": true
   },
   "outputs": [],
   "source": [
    "# creating boxplot for df_rest\n",
    "sns.boxplot(y='Values',\n",
    "            x='Parameters',\n",
    "            hue='diagnosis',\n",
    "            data=df_melt_rest,\n",
    "            dodge = True,ax=ax3);"
   ]
  },
  {
   "cell_type": "code",
   "execution_count": null,
   "metadata": {
    "collapsed": true
   },
   "outputs": [],
   "source": [
    "# creating stripplot for df_rest\n",
    "sns.stripplot(y='Values',\n",
    "              x='Parameters',\n",
    "              hue = 'diagnosis',\n",
    "              data=df_melt_rest,\n",
    "              size=3,\n",
    "              dodge = True,\n",
    "              jitter = True,\n",
    "              ax = ax3);"
   ]
  },
  {
   "cell_type": "code",
   "execution_count": null,
   "metadata": {
    "collapsed": true
   },
   "outputs": [],
   "source": [
    "# removing xlabels\n",
    "ax1.set_xlabel(''); ax2.set_xlabel(''); ax3.set_xlabel('');"
   ]
  },
  {
   "cell_type": "code",
   "execution_count": null,
   "metadata": {
    "collapsed": true
   },
   "outputs": [],
   "source": [
    "# removing ylabels\n",
    "ax1.set_ylabel(''); ax2.set_ylabel(''); ax3.set_ylabel('');"
   ]
  },
  {
   "cell_type": "code",
   "execution_count": null,
   "metadata": {
    "collapsed": true
   },
   "outputs": [],
   "source": [
    "plt.tight_layout()"
   ]
  },
  {
   "cell_type": "code",
   "execution_count": null,
   "metadata": {
    "scrolled": false
   },
   "outputs": [],
   "source": [
    "plt.show(fig3);"
   ]
  },
  {
   "cell_type": "code",
   "execution_count": null,
   "metadata": {
    "collapsed": true
   },
   "outputs": [],
   "source": [
    "# creating empty list for storing statistic value of normalcy test\n",
    "norm_stats = [];"
   ]
  },
  {
   "cell_type": "code",
   "execution_count": null,
   "metadata": {
    "collapsed": true
   },
   "outputs": [],
   "source": [
    "# creating empty list for storing p value of normalcy test\n",
    "norm_p = [];"
   ]
  },
  {
   "cell_type": "code",
   "execution_count": null,
   "metadata": {
    "collapsed": true
   },
   "outputs": [],
   "source": [
    "# looping over all columns(except diagnosis column) in df and checking if they follow a \n",
    "# normal distribution\n",
    "for k in df.iloc[:,1:]:\n",
    "    # applying normalcy test\n",
    "    stat_val, p_val = st.normaltest(df[k])\n",
    "    # appending statistic value to norm_stats \n",
    "    norm_stats.append(stat_val)\n",
    "    # appending p value to norm_p\n",
    "    norm_p.append(p_val)"
   ]
  },
  {
   "cell_type": "code",
   "execution_count": null,
   "metadata": {
    "collapsed": true
   },
   "outputs": [],
   "source": [
    "# checking if any distribution is normal\n",
    "assert (np.array(norm_p) > 0.05).sum() == 0"
   ]
  },
  {
   "cell_type": "code",
   "execution_count": null,
   "metadata": {
    "collapsed": true
   },
   "outputs": [],
   "source": [
    "# creating a defaultdict to contain p values and statistic value for mann-whitney test\n",
    "mw_test = defaultdict()"
   ]
  },
  {
   "cell_type": "code",
   "execution_count": null,
   "metadata": {
    "collapsed": true
   },
   "outputs": [],
   "source": [
    "# looping over all columns(except diagnosis column) in df and checking if benign is different than\n",
    "# malignant\n",
    "for k in df.iloc[:,1:]:\n",
    "    # applying mann-whitney test\n",
    "    statmw_val, pmw_val = st.mannwhitneyu(x = df[df['diagnosis'] == 'M'][k],\n",
    "                                          y = df[df['diagnosis'] == 'B'][k],\n",
    "                                          alternative = 'greater')\n",
    "    # appending statistic and p value to mw_test \n",
    "    mw_test[k] = [statmw_val,pmw_val]"
   ]
  },
  {
   "cell_type": "code",
   "execution_count": null,
   "metadata": {
    "collapsed": true
   },
   "outputs": [],
   "source": [
    "# creating a data frame for mw_test\n",
    "stats_df = pd.DataFrame(data=mw_test)"
   ]
  },
  {
   "cell_type": "code",
   "execution_count": null,
   "metadata": {},
   "outputs": [],
   "source": [
    "stats_df"
   ]
  },
  {
   "cell_type": "code",
   "execution_count": null,
   "metadata": {
    "collapsed": true
   },
   "outputs": [],
   "source": [
    "# setting the index of stats_df to names\n",
    "stats_df.index = ['U_statistic', 'P_value']"
   ]
  },
  {
   "cell_type": "code",
   "execution_count": null,
   "metadata": {},
   "outputs": [],
   "source": [
    "stats_df"
   ]
  },
  {
   "cell_type": "code",
   "execution_count": null,
   "metadata": {
    "collapsed": true
   },
   "outputs": [],
   "source": [
    "# creating a defaultdict to store percentage increases in parameters\n",
    "Perc_increase = defaultdict()"
   ]
  },
  {
   "cell_type": "code",
   "execution_count": null,
   "metadata": {
    "collapsed": true
   },
   "outputs": [],
   "source": [
    "# looping over all columns(except diagnosis column) in df and calculating increase in values in malignant as percentage\n",
    "for k in df.iloc[:,1:]:\n",
    "    Perc_increase[k] = ((df[df['diagnosis'] == 'M'][k].median() - df[df['diagnosis'] == 'B'][k].median())\n",
    "     /(df[df['diagnosis'] == 'B'].loc[:,k].median()))*100  "
   ]
  },
  {
   "cell_type": "code",
   "execution_count": null,
   "metadata": {
    "collapsed": true
   },
   "outputs": [],
   "source": [
    "fig4= plt.figure(figsize = (15,15))"
   ]
  },
  {
   "cell_type": "code",
   "execution_count": null,
   "metadata": {
    "collapsed": true
   },
   "outputs": [],
   "source": [
    "# plotting percentage increase as horizontal bar plot\n",
    "plt.barh(list(range(2, len(Perc_increase)*3 + 1, 3)),\n",
    "         width = list(Perc_increase.values()),\n",
    "         align='center');"
   ]
  },
  {
   "cell_type": "code",
   "execution_count": null,
   "metadata": {
    "collapsed": true
   },
   "outputs": [],
   "source": [
    "# placing y ticks with labels\n",
    "plt.yticks(list(range(2, len(Perc_increase)*3 + 1, 3)), list(Perc_increase.keys()));"
   ]
  },
  {
   "cell_type": "code",
   "execution_count": null,
   "metadata": {
    "collapsed": true
   },
   "outputs": [],
   "source": [
    "# placing x ticks\n",
    "plt.xticks(list(range(0, 340, 20)));"
   ]
  },
  {
   "cell_type": "code",
   "execution_count": null,
   "metadata": {
    "collapsed": true
   },
   "outputs": [],
   "source": [
    "# label x axes \n",
    "plt.xlabel('Increase (%)');"
   ]
  },
  {
   "cell_type": "code",
   "execution_count": null,
   "metadata": {
    "collapsed": true
   },
   "outputs": [],
   "source": [
    "plt.tight_layout()"
   ]
  },
  {
   "cell_type": "code",
   "execution_count": null,
   "metadata": {},
   "outputs": [],
   "source": [
    "plt.show(fig4)"
   ]
  }
 ],
 "metadata": {
  "kernelspec": {
   "display_name": "Python 3",
   "language": "python",
   "name": "python3"
  },
  "language_info": {
   "codemirror_mode": {
    "name": "ipython",
    "version": 3
   },
   "file_extension": ".py",
   "mimetype": "text/x-python",
   "name": "python",
   "nbconvert_exporter": "python",
   "pygments_lexer": "ipython3",
   "version": "3.6.3"
  }
 },
 "nbformat": 4,
 "nbformat_minor": 2
}
