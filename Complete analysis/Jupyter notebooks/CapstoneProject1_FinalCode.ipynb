{
 "cells": [
  {
   "cell_type": "code",
   "execution_count": null,
   "metadata": {},
   "outputs": [],
   "source": [
    "# Importing required libraries \n",
    "import pandas as pd\n",
    "import matplotlib.pyplot as plt\n",
    "import numpy as np\n",
    "import seaborn as sns\n",
    "from collections import defaultdict\n",
    "import scipy.stats as st"
   ]
  },
  {
   "cell_type": "code",
   "execution_count": null,
   "metadata": {
    "collapsed": true
   },
   "outputs": [],
   "source": [
    "# Reading data into a dataframe df\n",
    "df = pd.read_csv('Cancer.csv', index_col = 'id')"
   ]
  },
  {
   "cell_type": "code",
   "execution_count": null,
   "metadata": {
    "collapsed": true
   },
   "outputs": [],
   "source": [
    "# Meta data containg informaton about the data suggests that only the first 10 Columns contain values, the rest are\n",
    "# statistics on those values, therefore crating a new dataframe df with only the first 10 columns.\n",
    "df = df.iloc[:,0:10]"
   ]
  },
  {
   "cell_type": "code",
   "execution_count": null,
   "metadata": {
    "collapsed": true
   },
   "outputs": [],
   "source": [
    "# Making sure that no patient data is duplicated\n",
    "assert df.index.value_counts().max() == 1"
   ]
  },
  {
   "cell_type": "code",
   "execution_count": null,
   "metadata": {
    "collapsed": true
   },
   "outputs": [],
   "source": [
    "# Converting dignosis to dtype category\n",
    "df.diagnosis = df.diagnosis.astype('category')"
   ]
  },
  {
   "cell_type": "code",
   "execution_count": null,
   "metadata": {
    "collapsed": true
   },
   "outputs": [],
   "source": [
    "# Melting the data frame to create Parameters and values for each categorical variable\n",
    "df_melt = pd.melt(df,id_vars='diagnosis', \n",
    "                  var_name = 'Parameters', \n",
    "                  value_name = 'Values')"
   ]
  },
  {
   "cell_type": "code",
   "execution_count": null,
   "metadata": {
    "collapsed": true
   },
   "outputs": [],
   "source": [
    "# Making new dataframe for radius, texture and parimeter\n",
    "df_melt_radius_texture_perimeter = df_melt[(df_melt.Parameters == 'radius_mean') | \n",
    "                                           (df_melt.Parameters == 'texture_mean') |\n",
    "                                          (df_melt.Parameters == 'perimeter_mean')]"
   ]
  },
  {
   "cell_type": "code",
   "execution_count": null,
   "metadata": {
    "collapsed": true
   },
   "outputs": [],
   "source": [
    "# Making new dataframe for area\n",
    "df_melt_area = df_melt[df_melt.Parameters == 'area_mean']"
   ]
  },
  {
   "cell_type": "code",
   "execution_count": null,
   "metadata": {
    "collapsed": true
   },
   "outputs": [],
   "source": [
    "# Making new dataframe for rest of the parameters\n",
    "df_melt_rest = df_melt[(df_melt.Parameters != 'radius_mean') & \n",
    "                       (df_melt.Parameters != 'texture_mean') &\n",
    "                       (df_melt.Parameters != 'perimeter_mean') &\n",
    "                      (df_melt.Parameters != 'area_mean')]"
   ]
  },
  {
   "cell_type": "code",
   "execution_count": null,
   "metadata": {
    "collapsed": true
   },
   "outputs": [],
   "source": [
    "# Creating a list of dataframes that will be plotted\n",
    "dfs = [df_melt_area, df_melt_radius_texture_perimeter, df_melt_rest]"
   ]
  },
  {
   "cell_type": "code",
   "execution_count": null,
   "metadata": {
    "collapsed": true
   },
   "outputs": [],
   "source": [
    "def box_strip_plot(df_list):\n",
    "    \n",
    "    \"\"\" This function takes a list of melted dataframes as columns and plots a figure...\n",
    "    containg box plots and strip plots of those dataframes in different...\n",
    "    columns with 'my personal preferences' for better visualization. This makes plotting...\n",
    "    multiple dataframes a one step process. The function requres numpy, matplotlib.pyplot, seaborn and...\n",
    "    defaultdict to be imported beforehand. You can use your own personal preferences by changing...\n",
    "    values such as axes style, jitter etc in the function body.\"\"\"\n",
    "    \n",
    "    # Importing string\n",
    "    import string\n",
    "    \n",
    "    # Creating string list\n",
    "    string_list = list(string.ascii_lowercase)\n",
    "    \n",
    "    # Creating a dictionary named a\n",
    "    a = defaultdict()\n",
    "    \n",
    "    # Setting axes style and font size\n",
    "    sns.set(style = 'darkgrid', font_scale = 2)\n",
    "    \n",
    "    # Making fig and axs objects based on the number of dataframes\n",
    "    fig, axs = plt.subplots(len(df_list),1,figsize = (15,20*len(df_list)));\n",
    "    \n",
    "    # Setting fig title\n",
    "    plt.suptitle('Box and strip plots of nuclei features', y = 1.0);\n",
    "    \n",
    "    # Creating a list of axes created\n",
    "    ax_list = list(axs.ravel())\n",
    "    \n",
    "    # Making a zip opject with tuples with 2 objects: dataframe and its axes\n",
    "    zipped = zip(df_list,ax_list)\n",
    "    \n",
    "    # Adding values from zipped to the dictionay a\n",
    "    for ind,values in enumerate(zipped):\n",
    "        a[str(ind)] = values\n",
    "    \n",
    "    # Creating count_loop variable to count no of times the following loop is run\n",
    "    \n",
    "    count_loop = 0\n",
    "    \n",
    "    # Looping over a to make plots for each dataframe\n",
    "    for key in a:\n",
    "        \n",
    "        # Creating boxplot\n",
    "        sns.boxplot(y='Values',\n",
    "        x='Parameters',\n",
    "        hue='diagnosis',\n",
    "        data=a[key][0],\n",
    "        dodge = True,\n",
    "        ax=a[key][1])\n",
    "        \n",
    "        # Setting transparancy of boxplot to 0.3  \n",
    "        for patch in a[key][1].artists:\n",
    "            c1, c2, c2, c3 = patch.get_facecolor()\n",
    "            patch.set_facecolor((c1, c2, c3, .5))\n",
    "        \n",
    "        # Creating stripplot\n",
    "        sns.stripplot(y='Values',\n",
    "        x='Parameters',\n",
    "        hue = 'diagnosis',\n",
    "        data=a[key][0],\n",
    "        size=3,\n",
    "        dodge = True,\n",
    "        jitter = True,\n",
    "        ax = a[key][1]);\n",
    "        \n",
    "        # Removing xlabel and ylabel and setting alphabetical title\n",
    "        a[key][1].set_xlabel('');\n",
    "        a[key][1].set_ylabel('Arbitrary Units');\n",
    "        a[key][1].set_title('(' + string_list[count_loop] + ')',\n",
    "                            loc = 'left');\n",
    "        \n",
    "        # Updating count_loop\n",
    "        count_loop += 1\n",
    "    \n",
    "    # Returning the final figure\n",
    "    return fig"
   ]
  },
  {
   "cell_type": "code",
   "execution_count": null,
   "metadata": {},
   "outputs": [],
   "source": [
    "# Calling box_strip_plot on dataframes list (dfs) to create plotted figure object\n",
    "fig1 = box_strip_plot(dfs)"
   ]
  },
  {
   "cell_type": "code",
   "execution_count": null,
   "metadata": {
    "scrolled": false
   },
   "outputs": [],
   "source": [
    "# Showing fig1\n",
    "plt.tight_layout()\n",
    "plt.show(fig1)"
   ]
  },
  {
   "cell_type": "code",
   "execution_count": null,
   "metadata": {
    "collapsed": true
   },
   "outputs": [],
   "source": [
    "# Saving figure\n",
    "fig1.savefig('BoxStrip.jpg')"
   ]
  },
  {
   "cell_type": "code",
   "execution_count": null,
   "metadata": {
    "collapsed": true
   },
   "outputs": [],
   "source": [
    "# Creating empty list for storing statistic value of normalcy test\n",
    "norm_stats = [];"
   ]
  },
  {
   "cell_type": "code",
   "execution_count": null,
   "metadata": {
    "collapsed": true
   },
   "outputs": [],
   "source": [
    "# Creating empty list for storing p value of normalcy test\n",
    "norm_p = [];"
   ]
  },
  {
   "cell_type": "code",
   "execution_count": null,
   "metadata": {},
   "outputs": [],
   "source": [
    "# Looping over all columns(except diagnosis column) in df and checking if they follow a \n",
    "# normal distribution\n",
    "for k in df.iloc[:,1:]:\n",
    "    # applying normalcy test\n",
    "    stat_val, p_val = st.normaltest(df[k])\n",
    "    # appending statistic value to norm_stats \n",
    "    norm_stats.append(stat_val)\n",
    "    # appending p value to norm_p\n",
    "    norm_p.append(p_val)"
   ]
  },
  {
   "cell_type": "code",
   "execution_count": null,
   "metadata": {
    "collapsed": true
   },
   "outputs": [],
   "source": [
    "# Checking if any distribution is normal\n",
    "assert (np.array(norm_p) > 0.05).sum() == 0"
   ]
  },
  {
   "cell_type": "code",
   "execution_count": null,
   "metadata": {
    "collapsed": true
   },
   "outputs": [],
   "source": [
    "# Creating a defaultdict to contain p values and U statistic value for mann-whitney test\n",
    "mw_test = defaultdict()"
   ]
  },
  {
   "cell_type": "code",
   "execution_count": null,
   "metadata": {
    "collapsed": true
   },
   "outputs": [],
   "source": [
    "# Looping over all columns(except diagnosis column) in df and checking if benign is different than\n",
    "# malignant\n",
    "for k in df.iloc[:,1:]:\n",
    "    # Applying mann-whitney test\n",
    "    statmw_val, pmw_val = st.mannwhitneyu(x = df[df['diagnosis'] == 'M'][k],\n",
    "                                          y = df[df['diagnosis'] == 'B'][k],\n",
    "                                          alternative = 'greater')\n",
    "    # Appending statistic and p value to mw_test \n",
    "    mw_test[k] = [statmw_val,pmw_val]"
   ]
  },
  {
   "cell_type": "code",
   "execution_count": null,
   "metadata": {
    "collapsed": true
   },
   "outputs": [],
   "source": [
    "# Creating a data frame for mw_test\n",
    "stats_df = pd.DataFrame(data=mw_test)"
   ]
  },
  {
   "cell_type": "code",
   "execution_count": null,
   "metadata": {
    "collapsed": true
   },
   "outputs": [],
   "source": [
    "# Setting the index of stats_df to names\n",
    "stats_df.index = ['U_statistic', 'P_value']"
   ]
  },
  {
   "cell_type": "code",
   "execution_count": null,
   "metadata": {
    "collapsed": true
   },
   "outputs": [],
   "source": [
    "# Saving statistics dataframe to excel file\n",
    "writer = pd.ExcelWriter('Statistics.xlsx')\n",
    "stats_df.to_excel(writer,'Sheet1')"
   ]
  },
  {
   "cell_type": "code",
   "execution_count": null,
   "metadata": {
    "collapsed": true
   },
   "outputs": [],
   "source": [
    "# Creating a defaultdict to store percentage increases in parameters\n",
    "Perc_increase = defaultdict()"
   ]
  },
  {
   "cell_type": "code",
   "execution_count": null,
   "metadata": {
    "collapsed": true
   },
   "outputs": [],
   "source": [
    "# Looping over all columns(except diagnosis column) in df and calculating increase in values in malignant as percentage\n",
    "for k in df.iloc[:,1:]:\n",
    "    Perc_increase[k] = ((df[df['diagnosis'] == 'M'][k].median() - df[df['diagnosis'] == 'B'][k].median())\n",
    "     /(df[df['diagnosis'] == 'B'].loc[:,k].median()))*100  "
   ]
  },
  {
   "cell_type": "code",
   "execution_count": null,
   "metadata": {
    "collapsed": true
   },
   "outputs": [],
   "source": [
    "# Creating figure object\n",
    "fig2= plt.figure(figsize = (15,20))"
   ]
  },
  {
   "cell_type": "code",
   "execution_count": null,
   "metadata": {
    "collapsed": true
   },
   "outputs": [],
   "source": [
    "# Plotting percentage increase as horizontal bar plot\n",
    "plt.barh(list(range(2, len(Perc_increase)*3 + 1, 3)),\n",
    "         width = list(Perc_increase.values()),\n",
    "         align='center');"
   ]
  },
  {
   "cell_type": "code",
   "execution_count": null,
   "metadata": {
    "collapsed": true
   },
   "outputs": [],
   "source": [
    "# Placing y ticks with labels\n",
    "plt.yticks(list(range(2, len(Perc_increase)*3 + 1, 3)), list(Perc_increase.keys()));"
   ]
  },
  {
   "cell_type": "code",
   "execution_count": null,
   "metadata": {
    "collapsed": true
   },
   "outputs": [],
   "source": [
    "# Placing x ticks\n",
    "plt.xticks(list(range(0, 340, 20)));"
   ]
  },
  {
   "cell_type": "code",
   "execution_count": null,
   "metadata": {
    "collapsed": true
   },
   "outputs": [],
   "source": [
    "# Label x axes \n",
    "plt.xlabel('Increase (%)');"
   ]
  },
  {
   "cell_type": "code",
   "execution_count": null,
   "metadata": {},
   "outputs": [],
   "source": [
    "# Setting figure title\n",
    "plt.title('Increase in malignant compared to benign');"
   ]
  },
  {
   "cell_type": "code",
   "execution_count": null,
   "metadata": {
    "collapsed": true
   },
   "outputs": [],
   "source": [
    "plt.tight_layout()"
   ]
  },
  {
   "cell_type": "code",
   "execution_count": null,
   "metadata": {},
   "outputs": [],
   "source": [
    "plt.show(fig2)"
   ]
  },
  {
   "cell_type": "code",
   "execution_count": null,
   "metadata": {
    "collapsed": true
   },
   "outputs": [],
   "source": [
    "# Saving figure\n",
    "fig2.savefig('PercentageIncrease.jpg')"
   ]
  }
 ],
 "metadata": {
  "kernelspec": {
   "display_name": "Python 3",
   "language": "python",
   "name": "python3"
  },
  "language_info": {
   "codemirror_mode": {
    "name": "ipython",
    "version": 3
   },
   "file_extension": ".py",
   "mimetype": "text/x-python",
   "name": "python",
   "nbconvert_exporter": "python",
   "pygments_lexer": "ipython3",
   "version": "3.6.3"
  }
 },
 "nbformat": 4,
 "nbformat_minor": 2
}
